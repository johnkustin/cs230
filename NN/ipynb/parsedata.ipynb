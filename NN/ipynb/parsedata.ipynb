{
  "nbformat_minor": 1, 
  "nbformat": 4, 
  "cells": [
    {
      "source": [
        "from matplotlib import image\n", 
        "import numpy as np\n", 
        "from os import listdir\n", 
        "import csv\n", 
        "\n", 
        "loaded_images = list()\n", 
        "y = list()\n", 
        "load_tags = list()\n", 
        "with open('../datasets/faces-sample/metadata.csv') as csv_file:\n", 
        "    csv_reader = csv.reader(csv_file, delimiter=',')\n", 
        "    line_count = 0\n", 
        "    for row in csv_reader:\n", 
        "        if line_count == 0:\n", 
        "            line_count += 1\n", 
        "        else:\n", 
        "            load_tags.append(row[1])\n", 
        "            line_count += 1\n", 
        "counter = 0\n", 
        "for folder in listdir('../datasets/faces-sample/'):\n", 
        "    #    if counter > 20: # cap for 20 folders\n", 
        "#       break\n", 
        "    if folder == '.DS_Store' or folder == 'metadata.csv':\n", 
        "        continue\n", 
        "#    for filename in listdir('../datasets/faces-sample/' + folder):\n", 
        "    filename = listdir('../datasets/faces-sample/' + folder)[0]\n", 
        "    # load image\n", 
        "    img_data = image.imread('../datasets/faces-sample/'+ folder + '/' + filename)\n", 
        "    # store loaded image\n", 
        "    loaded_images.append(img_data)\n", 
        "\n", 
        "\n", 
        "    print(\"Currently processing: \" + folder)\n", 
        "    y+= [load_tags[counter]] * (len(loaded_images) - len(y))\n", 
        "    counter += 1\n", 
        "Y_train = np.asarray(y)\n", 
        "loaded_images= np.asarray(loaded_images)\n", 
        "X_train_flatten = loaded_images.reshape(loaded_images.shape[0], -1).T\n", 
        "X_train = X_train_flatten/255.\n", 
        "#Y_train = Y_train.reshape(Y_train.shape[0], 1)\n", 
        "# use this reshape when using the tensorflow model\n", 
        "Y_train = Y_train.reshape(1, Y_train.shape[0])\n", 
        "print (\"X_train shape: \" + str(X_train.shape))\n", 
        "print (\"Y_train shape: \" + str(Y_train.shape))\n", 
        "np.save('x_train', X_train)\n", 
        "np.save('y_train', Y_train)\n"
      ], 
      "cell_type": "code", 
      "execution_count": null, 
      "outputs": [], 
      "metadata": {}
    }
  ], 
  "metadata": {
    "kernelspec": {
      "display_name": "Python 3", 
      "name": "python3", 
      "language": "python"
    }, 
    "language_info": {
      "mimetype": "text/x-python", 
      "nbconvert_exporter": "python", 
      "name": "python", 
      "file_extension": ".py", 
      "version": "3.6.1", 
      "pygments_lexer": "ipython3", 
      "codemirror_mode": {
        "version": 3, 
        "name": "ipython"
      }
    }, 
    "anaconda-cloud": {}
  }
}